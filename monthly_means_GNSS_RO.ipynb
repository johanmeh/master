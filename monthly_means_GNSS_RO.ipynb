{
 "cells": [
  {
   "cell_type": "markdown",
   "metadata": {},
   "source": [
    "## Test monthly means with leap year for GNSS-RO data"
   ]
  },
  {
   "cell_type": "code",
   "execution_count": null,
   "metadata": {},
   "outputs": [],
   "source": [
    "import xarray as xr\n",
    "import matplotlib.pyplot as plt\n",
    "import numpy as np\n",
    "from netCDF4 import num2date"
   ]
  },
  {
   "cell_type": "code",
   "execution_count": 89,
   "metadata": {},
   "outputs": [],
   "source": [
    "ds_obs = xr.open_dataset('GPS-RO__CP_LR_5x5_2007-2018.nc')\n",
    "ds_era5 = xr.open_dataset('FULL-ERA5.monthmean.2007-2018.concat_new.nc')\n",
    "ds_erai = xr.open_dataset('erai.tp.monmean.nc')"
   ]
  },
  {
   "cell_type": "code",
   "execution_count": null,
   "metadata": {},
   "outputs": [],
   "source": [
    "obs_y = ds_obs.resample(time='Y', keep_attrs=True).mean()\n",
    "\n",
    "era_y = ds_era5.resample(time='Y', keep_attrs=True).mean()\n",
    "era_y = era_y.sel(lat=slice(-30,30))"
   ]
  },
  {
   "cell_type": "code",
   "execution_count": null,
   "metadata": {},
   "outputs": [],
   "source": [
    "erai_y = ds_erai.resample(time='Y', keep_attrs=True).mean()\n",
    "erai_y = erai_y.sel(lat=slice(30,-30), time=('1979-12-31', '2018-12-31'))"
   ]
  },
  {
   "cell_type": "code",
   "execution_count": 92,
   "metadata": {},
   "outputs": [
    {
     "data": {
      "text/html": [
       "<pre>&lt;xarray.Dataset&gt;\n",
       "Dimensions:       (lat: 86, lon: 512, time: 41)\n",
       "Coordinates:\n",
       "  * time          (time) datetime64[ns] 1979-12-31 1980-12-31 ... 2019-12-31\n",
       "  * lon           (lon) float32 0.0 0.70312524 1.4062505 ... 358.59387 359.297\n",
       "  * lat           (lat) float32 29.8245 29.122746 ... -29.122746 -29.8245\n",
       "Data variables:\n",
       "    tpp           (time, lat, lon) float32 147.4569 147.64584 ... 134.97362\n",
       "    tpt           (time, lat, lon) float32 207.67558 207.74301 ... 205.2066\n",
       "    tpz           (time, lat, lon) float32 14.3016815 14.292972 ... 14.932361\n",
       "    tpp2          (time, lat, lon) float32 101.33665 103.82817 ... 100.65452\n",
       "    tpt2          (time, lat, lon) float32 205.71117 205.90593 ... 204.7016\n",
       "    tpz2          (time, lat, lon) float32 16.29523 16.173855 ... 16.429258\n",
       "    ctpp          (time, lat, lon) float32 97.11722 96.743095 ... 89.821724\n",
       "    ctpt          (time, lat, lon) float32 203.78424 203.80324 ... 201.6578\n",
       "    ctpz          (time, lat, lon) float32 16.717766 16.741493 ... 17.203066\n",
       "    zlrp          (time, lat, lon) float32 96.74949 96.44272 ... 89.63321\n",
       "    zlrt          (time, lat, lon) float32 203.68117 203.69862 ... 201.53102\n",
       "    zlrz          (time, lat, lon) float32 16.73015 16.74858 ... 17.200855\n",
       "    splinezlrp    (time, lat, lon) float32 97.046074 96.68572 ... 89.804825\n",
       "    splinezlrt    (time, lat, lon) float32 203.66553 203.68524 ... 201.51709\n",
       "    splinezlrz    (time, lat, lon) float32 16.719057 16.740355 ... 17.197178\n",
       "    dthetadzminp  (time, lat, lon) float32 491.49884 490.25653 ... 329.40417\n",
       "    dthetadzmint  (time, lat, lon) float32 257.64017 257.46478 ... 238.94354\n",
       "    dthetadzminz  (time, lat, lon) float32 6.2523556 6.2695956 ... 9.148704\n",
       "    cpsmr         (time, lat, lon) float32 34.008934 34.28862 ... 28.111946\n",
       "    occ2nd        (time, lat, lon) float64 17.65 16.21 16.41 ... 21.19 20.5\n",
       "    tpp2mtpp      (time, lat, lon) float32 -115.60965 -108.72365 ... -92.66996\n",
       "    tpt2mtpt      (time, lat, lon) float32 -12.192271 -11.302386 ... -9.760732\n",
       "    tpz2mtpz      (time, lat, lon) float32 4.690639 4.4190464 ... 3.94713\n",
       "    zlrsmr        (time, lat, lon) float32 33.564213 33.793392 ... 27.573425</pre>"
      ],
      "text/plain": [
       "<xarray.Dataset>\n",
       "Dimensions:       (lat: 86, lon: 512, time: 41)\n",
       "Coordinates:\n",
       "  * time          (time) datetime64[ns] 1979-12-31 1980-12-31 ... 2019-12-31\n",
       "  * lon           (lon) float32 0.0 0.70312524 1.4062505 ... 358.59387 359.297\n",
       "  * lat           (lat) float32 29.8245 29.122746 ... -29.122746 -29.8245\n",
       "Data variables:\n",
       "    tpp           (time, lat, lon) float32 147.4569 147.64584 ... 134.97362\n",
       "    tpt           (time, lat, lon) float32 207.67558 207.74301 ... 205.2066\n",
       "    tpz           (time, lat, lon) float32 14.3016815 14.292972 ... 14.932361\n",
       "    tpp2          (time, lat, lon) float32 101.33665 103.82817 ... 100.65452\n",
       "    tpt2          (time, lat, lon) float32 205.71117 205.90593 ... 204.7016\n",
       "    tpz2          (time, lat, lon) float32 16.29523 16.173855 ... 16.429258\n",
       "    ctpp          (time, lat, lon) float32 97.11722 96.743095 ... 89.821724\n",
       "    ctpt          (time, lat, lon) float32 203.78424 203.80324 ... 201.6578\n",
       "    ctpz          (time, lat, lon) float32 16.717766 16.741493 ... 17.203066\n",
       "    zlrp          (time, lat, lon) float32 96.74949 96.44272 ... 89.63321\n",
       "    zlrt          (time, lat, lon) float32 203.68117 203.69862 ... 201.53102\n",
       "    zlrz          (time, lat, lon) float32 16.73015 16.74858 ... 17.200855\n",
       "    splinezlrp    (time, lat, lon) float32 97.046074 96.68572 ... 89.804825\n",
       "    splinezlrt    (time, lat, lon) float32 203.66553 203.68524 ... 201.51709\n",
       "    splinezlrz    (time, lat, lon) float32 16.719057 16.740355 ... 17.197178\n",
       "    dthetadzminp  (time, lat, lon) float32 491.49884 490.25653 ... 329.40417\n",
       "    dthetadzmint  (time, lat, lon) float32 257.64017 257.46478 ... 238.94354\n",
       "    dthetadzminz  (time, lat, lon) float32 6.2523556 6.2695956 ... 9.148704\n",
       "    cpsmr         (time, lat, lon) float32 34.008934 34.28862 ... 28.111946\n",
       "    occ2nd        (time, lat, lon) float64 17.65 16.21 16.41 ... 21.19 20.5\n",
       "    tpp2mtpp      (time, lat, lon) float32 -115.60965 -108.72365 ... -92.66996\n",
       "    tpt2mtpt      (time, lat, lon) float32 -12.192271 -11.302386 ... -9.760732\n",
       "    tpz2mtpz      (time, lat, lon) float32 4.690639 4.4190464 ... 3.94713\n",
       "    zlrsmr        (time, lat, lon) float32 33.564213 33.793392 ... 27.573425"
      ]
     },
     "execution_count": 92,
     "metadata": {},
     "output_type": "execute_result"
    }
   ],
   "source": [
    "erai_y"
   ]
  },
  {
   "cell_type": "code",
   "execution_count": 82,
   "metadata": {},
   "outputs": [],
   "source": [
    "era_y_mean = np.zeros(era_y.time.shape[0])\n",
    "erai_\n",
    "\n",
    "for i in range(len(era_y_mean)):\n",
    "    era_y_mean[i] = era_y.ctpt[i, :, :].mean()"
   ]
  },
  {
   "cell_type": "code",
   "execution_count": 83,
   "metadata": {},
   "outputs": [],
   "source": [
    "obs_y_mean = np.zeros(obs_y.time.shape[0])\n",
    "\n",
    "for i in range(len(obs_y_mean)):\n",
    "    obs_y_mean[i] = obs_y.CP_T[i, :, :].mean()"
   ]
  },
  {
   "cell_type": "code",
   "execution_count": 87,
   "metadata": {},
   "outputs": [
    {
     "data": {
      "text/plain": [
       "[<matplotlib.lines.Line2D at 0x7f3b7be96208>]"
      ]
     },
     "execution_count": 87,
     "metadata": {},
     "output_type": "execute_result"
    },
    {
     "data": {
      "image/png": "[encoded data removed]",
      "text/plain": [
       "<Figure size 432x288 with 1 Axes>"
      ]
     },
     "metadata": {
      "needs_background": "light"
     },
     "output_type": "display_data"
    }
   ],
   "source": [
    "plt.plot(np.linspace(2007,2018,12),era_y_mean)\n",
    "plt.plot(np.linspace(2007,2018,12),obs_y_mean)"
   ]
  },
  {
   "cell_type": "code",
   "execution_count": 85,
   "metadata": {},
   "outputs": [
    {
     "data": {
      "text/plain": [
       "array([-0.31248474, -0.31105042, -0.31549072, -0.35954285, -0.2882843 ,\n",
       "       -0.31246948, -0.3057251 , -0.2555542 , -0.2936554 , -0.25746155,\n",
       "       -0.30905151, -0.32402039])"
      ]
     },
     "execution_count": 85,
     "metadata": {},
     "output_type": "execute_result"
    }
   ],
   "source": [
    "era_y_mean - obs_y_mean"
   ]
  },
  {
   "cell_type": "code",
   "execution_count": 45,
   "metadata": {},
   "outputs": [
    {
     "data": {
      "text/html": [
       "<pre>&lt;xarray.DataArray &#x27;CP_T&#x27; ()&gt;\n",
       "array(192.23679, dtype=float32)\n",
       "Coordinates:\n",
       "    time     datetime64[ns] 2008-02-29</pre>"
      ],
      "text/plain": [
       "<xarray.DataArray 'CP_T' ()>\n",
       "array(192.23679, dtype=float32)\n",
       "Coordinates:\n",
       "    time     datetime64[ns] 2008-02-29"
      ]
     },
     "execution_count": 45,
     "metadata": {},
     "output_type": "execute_result"
    }
   ],
   "source": [
    "test.CP_T[13,:,:].mean()"
   ]
  },
  {
   "cell_type": "code",
   "execution_count": 44,
   "metadata": {},
   "outputs": [
    {
     "data": {
      "text/html": [
       "<pre>&lt;xarray.DataArray &#x27;CP_T&#x27; ()&gt;\n",
       "array(192.23677, dtype=float32)</pre>"
      ],
      "text/plain": [
       "<xarray.DataArray 'CP_T' ()>\n",
       "array(192.23677, dtype=float32)"
      ]
     },
     "execution_count": 44,
     "metadata": {},
     "output_type": "execute_result"
    }
   ],
   "source": [
    "ds.CP_T[396:425, : , :].mean()"
   ]
  },
  {
   "cell_type": "code",
   "execution_count": 36,
   "metadata": {},
   "outputs": [
    {
     "data": {
      "text/html": [
       "<pre>&lt;xarray.DataArray &#x27;time&#x27; (time: 29)&gt;\n",
       "array([&#x27;2008-02-01T00:00:00.000000000&#x27;, &#x27;2008-02-02T00:00:00.000000000&#x27;,\n",
       "       &#x27;2008-02-03T00:00:00.000000000&#x27;, &#x27;2008-02-04T00:00:00.000000000&#x27;,\n",
       "       &#x27;2008-02-05T00:00:00.000000000&#x27;, &#x27;2008-02-06T00:00:00.000000000&#x27;,\n",
       "       &#x27;2008-02-07T00:00:00.000000000&#x27;, &#x27;2008-02-08T00:00:00.000000000&#x27;,\n",
       "       &#x27;2008-02-09T00:00:00.000000000&#x27;, &#x27;2008-02-10T00:00:00.000000000&#x27;,\n",
       "       &#x27;2008-02-11T00:00:00.000000000&#x27;, &#x27;2008-02-12T00:00:00.000000000&#x27;,\n",
       "       &#x27;2008-02-13T00:00:00.000000000&#x27;, &#x27;2008-02-14T00:00:00.000000000&#x27;,\n",
       "       &#x27;2008-02-15T00:00:00.000000000&#x27;, &#x27;2008-02-16T00:00:00.000000000&#x27;,\n",
       "       &#x27;2008-02-17T00:00:00.000000000&#x27;, &#x27;2008-02-18T00:00:00.000000000&#x27;,\n",
       "       &#x27;2008-02-19T00:00:00.000000000&#x27;, &#x27;2008-02-20T00:00:00.000000000&#x27;,\n",
       "       &#x27;2008-02-21T00:00:00.000000000&#x27;, &#x27;2008-02-22T00:00:00.000000000&#x27;,\n",
       "       &#x27;2008-02-23T00:00:00.000000000&#x27;, &#x27;2008-02-24T00:00:00.000000000&#x27;,\n",
       "       &#x27;2008-02-25T00:00:00.000000000&#x27;, &#x27;2008-02-26T00:00:00.000000000&#x27;,\n",
       "       &#x27;2008-02-27T00:00:00.000000000&#x27;, &#x27;2008-02-28T00:00:00.000000000&#x27;,\n",
       "       &#x27;2008-02-29T00:00:00.000000000&#x27;], dtype=&#x27;datetime64[ns]&#x27;)\n",
       "Coordinates:\n",
       "  * time     (time) datetime64[ns] 2008-02-01 2008-02-02 ... 2008-02-29\n",
       "Attributes:\n",
       "    long_name:  time</pre>"
      ],
      "text/plain": [
       "<xarray.DataArray 'time' (time: 29)>\n",
       "array(['2008-02-01T00:00:00.000000000', '2008-02-02T00:00:00.000000000',\n",
       "       '2008-02-03T00:00:00.000000000', '2008-02-04T00:00:00.000000000',\n",
       "       '2008-02-05T00:00:00.000000000', '2008-02-06T00:00:00.000000000',\n",
       "       '2008-02-07T00:00:00.000000000', '2008-02-08T00:00:00.000000000',\n",
       "       '2008-02-09T00:00:00.000000000', '2008-02-10T00:00:00.000000000',\n",
       "       '2008-02-11T00:00:00.000000000', '2008-02-12T00:00:00.000000000',\n",
       "       '2008-02-13T00:00:00.000000000', '2008-02-14T00:00:00.000000000',\n",
       "       '2008-02-15T00:00:00.000000000', '2008-02-16T00:00:00.000000000',\n",
       "       '2008-02-17T00:00:00.000000000', '2008-02-18T00:00:00.000000000',\n",
       "       '2008-02-19T00:00:00.000000000', '2008-02-20T00:00:00.000000000',\n",
       "       '2008-02-21T00:00:00.000000000', '2008-02-22T00:00:00.000000000',\n",
       "       '2008-02-23T00:00:00.000000000', '2008-02-24T00:00:00.000000000',\n",
       "       '2008-02-25T00:00:00.000000000', '2008-02-26T00:00:00.000000000',\n",
       "       '2008-02-27T00:00:00.000000000', '2008-02-28T00:00:00.000000000',\n",
       "       '2008-02-29T00:00:00.000000000'], dtype='datetime64[ns]')\n",
       "Coordinates:\n",
       "  * time     (time) datetime64[ns] 2008-02-01 2008-02-02 ... 2008-02-29\n",
       "Attributes:\n",
       "    long_name:  time"
      ]
     },
     "execution_count": 36,
     "metadata": {},
     "output_type": "execute_result"
    }
   ],
   "source": [
    "ds.time[396:425]"
   ]
  },
  {
   "cell_type": "code",
   "execution_count": null,
   "metadata": {},
   "outputs": [],
   "source": []
  }
 ],
 "metadata": {
  "kernelspec": {
   "display_name": "Environment (conda_py36)",
   "language": "python",
   "name": "conda_py36"
  },
  "language_info": {
   "codemirror_mode": {
    "name": "ipython",
    "version": 3
   },
   "file_extension": ".py",
   "mimetype": "text/x-python",
   "name": "python",
   "nbconvert_exporter": "python",
   "pygments_lexer": "ipython3",
   "version": "3.6.10"
  }
 },
 "nbformat": 4,
 "nbformat_minor": 2
}
